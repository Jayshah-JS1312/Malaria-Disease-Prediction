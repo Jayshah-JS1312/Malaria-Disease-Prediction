{
 "cells": [
  {
   "cell_type": "markdown",
   "metadata": {},
   "source": [
    "# Transfer Learning Using VGG-19 on Malaria Disease Detection "
   ]
  },
  {
   "cell_type": "code",
   "execution_count": 1,
   "metadata": {},
   "outputs": [],
   "source": [
    "from tensorflow.keras.layers import Input,Lambda,Dense,Flatten,Conv2D\n",
    "from tensorflow.keras.models import Model\n",
    "from tensorflow.keras.applications.vgg19 import VGG19\n",
    "from tensorflow.keras.applications.resnet50 import preprocess_input\n",
    "from tensorflow.keras.preprocessing import image\n",
    "from tensorflow.keras.preprocessing.image import ImageDataGenerator,load_img\n",
    "from tensorflow.keras.models import Sequential\n",
    "import numpy as np\n",
    "from glob import glob\n",
    "import matplotlib.pyplot as plt"
   ]
  },
  {
   "cell_type": "code",
   "execution_count": 2,
   "metadata": {},
   "outputs": [
    {
     "name": "stdout",
     "output_type": "stream",
     "text": [
      "2.6.0\n"
     ]
    }
   ],
   "source": [
    "import tensorflow as tf\n",
    "print(tf.__version__)"
   ]
  },
  {
   "cell_type": "code",
   "execution_count": 3,
   "metadata": {},
   "outputs": [],
   "source": [
    "IMAGE_SIZE = [224,224]\n",
    "\n",
    "train_path = 'Dataset/Train'\n",
    "valid_path = 'Dataset/Test'"
   ]
  },
  {
   "cell_type": "code",
   "execution_count": 4,
   "metadata": {},
   "outputs": [],
   "source": [
    "# Below [3] is the RGB channel along with the image size\n",
    "# The meaning of include_top=False is that itt will cut the first and last layer of the model. \n",
    "#Here in the first layer we will provvide the image size whereas in the last layer we have two classes.\n",
    "vgg19 = VGG19(input_shape = IMAGE_SIZE+[3], weights = 'imagenet',include_top=False)"
   ]
  },
  {
   "cell_type": "code",
   "execution_count": 5,
   "metadata": {},
   "outputs": [
    {
     "name": "stdout",
     "output_type": "stream",
     "text": [
      "Model: \"vgg19\"\n",
      "_________________________________________________________________\n",
      "Layer (type)                 Output Shape              Param #   \n",
      "=================================================================\n",
      "input_1 (InputLayer)         [(None, 224, 224, 3)]     0         \n",
      "_________________________________________________________________\n",
      "block1_conv1 (Conv2D)        (None, 224, 224, 64)      1792      \n",
      "_________________________________________________________________\n",
      "block1_conv2 (Conv2D)        (None, 224, 224, 64)      36928     \n",
      "_________________________________________________________________\n",
      "block1_pool (MaxPooling2D)   (None, 112, 112, 64)      0         \n",
      "_________________________________________________________________\n",
      "block2_conv1 (Conv2D)        (None, 112, 112, 128)     73856     \n",
      "_________________________________________________________________\n",
      "block2_conv2 (Conv2D)        (None, 112, 112, 128)     147584    \n",
      "_________________________________________________________________\n",
      "block2_pool (MaxPooling2D)   (None, 56, 56, 128)       0         \n",
      "_________________________________________________________________\n",
      "block3_conv1 (Conv2D)        (None, 56, 56, 256)       295168    \n",
      "_________________________________________________________________\n",
      "block3_conv2 (Conv2D)        (None, 56, 56, 256)       590080    \n",
      "_________________________________________________________________\n",
      "block3_conv3 (Conv2D)        (None, 56, 56, 256)       590080    \n",
      "_________________________________________________________________\n",
      "block3_conv4 (Conv2D)        (None, 56, 56, 256)       590080    \n",
      "_________________________________________________________________\n",
      "block3_pool (MaxPooling2D)   (None, 28, 28, 256)       0         \n",
      "_________________________________________________________________\n",
      "block4_conv1 (Conv2D)        (None, 28, 28, 512)       1180160   \n",
      "_________________________________________________________________\n",
      "block4_conv2 (Conv2D)        (None, 28, 28, 512)       2359808   \n",
      "_________________________________________________________________\n",
      "block4_conv3 (Conv2D)        (None, 28, 28, 512)       2359808   \n",
      "_________________________________________________________________\n",
      "block4_conv4 (Conv2D)        (None, 28, 28, 512)       2359808   \n",
      "_________________________________________________________________\n",
      "block4_pool (MaxPooling2D)   (None, 14, 14, 512)       0         \n",
      "_________________________________________________________________\n",
      "block5_conv1 (Conv2D)        (None, 14, 14, 512)       2359808   \n",
      "_________________________________________________________________\n",
      "block5_conv2 (Conv2D)        (None, 14, 14, 512)       2359808   \n",
      "_________________________________________________________________\n",
      "block5_conv3 (Conv2D)        (None, 14, 14, 512)       2359808   \n",
      "_________________________________________________________________\n",
      "block5_conv4 (Conv2D)        (None, 14, 14, 512)       2359808   \n",
      "_________________________________________________________________\n",
      "block5_pool (MaxPooling2D)   (None, 7, 7, 512)         0         \n",
      "=================================================================\n",
      "Total params: 20,024,384\n",
      "Trainable params: 20,024,384\n",
      "Non-trainable params: 0\n",
      "_________________________________________________________________\n"
     ]
    }
   ],
   "source": [
    "vgg19.summary()"
   ]
  },
  {
   "cell_type": "code",
   "execution_count": 6,
   "metadata": {},
   "outputs": [],
   "source": [
    "# Don't train the existing weights\n",
    "for layer in vgg19.layers:\n",
    "    layer.trainable = False"
   ]
  },
  {
   "cell_type": "code",
   "execution_count": 7,
   "metadata": {},
   "outputs": [
    {
     "data": {
      "text/plain": [
       "['Dataset/Train\\\\Parasite', 'Dataset/Train\\\\Uninfected']"
      ]
     },
     "execution_count": 7,
     "metadata": {},
     "output_type": "execute_result"
    }
   ],
   "source": [
    "# Calculating the total number of output class\n",
    "folders = glob('Dataset/Train/*')\n",
    "folders"
   ]
  },
  {
   "cell_type": "code",
   "execution_count": 8,
   "metadata": {},
   "outputs": [],
   "source": [
    "# Our layers - We can add as per our convenience\n",
    "x = Flatten()(vgg19.output)"
   ]
  },
  {
   "cell_type": "code",
   "execution_count": 9,
   "metadata": {},
   "outputs": [],
   "source": [
    "prediction = Dense(len(folders),activation='softmax')(x)\n",
    "\n",
    "#Create a model object\n",
    "model = Model(inputs=vgg19.input,outputs=prediction)"
   ]
  },
  {
   "cell_type": "code",
   "execution_count": 10,
   "metadata": {},
   "outputs": [
    {
     "name": "stdout",
     "output_type": "stream",
     "text": [
      "Model: \"model\"\n",
      "_________________________________________________________________\n",
      "Layer (type)                 Output Shape              Param #   \n",
      "=================================================================\n",
      "input_1 (InputLayer)         [(None, 224, 224, 3)]     0         \n",
      "_________________________________________________________________\n",
      "block1_conv1 (Conv2D)        (None, 224, 224, 64)      1792      \n",
      "_________________________________________________________________\n",
      "block1_conv2 (Conv2D)        (None, 224, 224, 64)      36928     \n",
      "_________________________________________________________________\n",
      "block1_pool (MaxPooling2D)   (None, 112, 112, 64)      0         \n",
      "_________________________________________________________________\n",
      "block2_conv1 (Conv2D)        (None, 112, 112, 128)     73856     \n",
      "_________________________________________________________________\n",
      "block2_conv2 (Conv2D)        (None, 112, 112, 128)     147584    \n",
      "_________________________________________________________________\n",
      "block2_pool (MaxPooling2D)   (None, 56, 56, 128)       0         \n",
      "_________________________________________________________________\n",
      "block3_conv1 (Conv2D)        (None, 56, 56, 256)       295168    \n",
      "_________________________________________________________________\n",
      "block3_conv2 (Conv2D)        (None, 56, 56, 256)       590080    \n",
      "_________________________________________________________________\n",
      "block3_conv3 (Conv2D)        (None, 56, 56, 256)       590080    \n",
      "_________________________________________________________________\n",
      "block3_conv4 (Conv2D)        (None, 56, 56, 256)       590080    \n",
      "_________________________________________________________________\n",
      "block3_pool (MaxPooling2D)   (None, 28, 28, 256)       0         \n",
      "_________________________________________________________________\n",
      "block4_conv1 (Conv2D)        (None, 28, 28, 512)       1180160   \n",
      "_________________________________________________________________\n",
      "block4_conv2 (Conv2D)        (None, 28, 28, 512)       2359808   \n",
      "_________________________________________________________________\n",
      "block4_conv3 (Conv2D)        (None, 28, 28, 512)       2359808   \n",
      "_________________________________________________________________\n",
      "block4_conv4 (Conv2D)        (None, 28, 28, 512)       2359808   \n",
      "_________________________________________________________________\n",
      "block4_pool (MaxPooling2D)   (None, 14, 14, 512)       0         \n",
      "_________________________________________________________________\n",
      "block5_conv1 (Conv2D)        (None, 14, 14, 512)       2359808   \n",
      "_________________________________________________________________\n",
      "block5_conv2 (Conv2D)        (None, 14, 14, 512)       2359808   \n",
      "_________________________________________________________________\n",
      "block5_conv3 (Conv2D)        (None, 14, 14, 512)       2359808   \n",
      "_________________________________________________________________\n",
      "block5_conv4 (Conv2D)        (None, 14, 14, 512)       2359808   \n",
      "_________________________________________________________________\n",
      "block5_pool (MaxPooling2D)   (None, 7, 7, 512)         0         \n",
      "_________________________________________________________________\n",
      "flatten (Flatten)            (None, 25088)             0         \n",
      "_________________________________________________________________\n",
      "dense (Dense)                (None, 2)                 50178     \n",
      "=================================================================\n",
      "Total params: 20,074,562\n",
      "Trainable params: 50,178\n",
      "Non-trainable params: 20,024,384\n",
      "_________________________________________________________________\n"
     ]
    }
   ],
   "source": [
    "model.summary()"
   ]
  },
  {
   "cell_type": "code",
   "execution_count": 11,
   "metadata": {},
   "outputs": [],
   "source": [
    "#Compile the model\n",
    "model.compile(loss='categorical_crossentropy',optimizer='adam',metrics=['accuracy'])"
   ]
  },
  {
   "cell_type": "code",
   "execution_count": 12,
   "metadata": {},
   "outputs": [],
   "source": [
    "train_datagen = ImageDataGenerator(\n",
    "    rescale=1./255,\n",
    "    shear_range=0.2,\n",
    "    zoom_range=0.2,\n",
    "    horizontal_flip=True\n",
    ")\n",
    "\n",
    "test_datagen = ImageDataGenerator(rescale=1./255)"
   ]
  },
  {
   "cell_type": "code",
   "execution_count": 13,
   "metadata": {},
   "outputs": [
    {
     "name": "stdout",
     "output_type": "stream",
     "text": [
      "Found 416 images belonging to 2 classes.\n"
     ]
    }
   ],
   "source": [
    "# Provide the same traget size as initialized for the image size\n",
    "training_set = train_datagen.flow_from_directory(\n",
    "    'Dataset/Train',\n",
    "    target_size=(224,224),\n",
    "    batch_size=32,\n",
    "    class_mode='categorical'\n",
    ")"
   ]
  },
  {
   "cell_type": "code",
   "execution_count": 14,
   "metadata": {},
   "outputs": [
    {
     "data": {
      "text/plain": [
       "<keras.preprocessing.image.DirectoryIterator at 0x252411fb088>"
      ]
     },
     "execution_count": 14,
     "metadata": {},
     "output_type": "execute_result"
    }
   ],
   "source": [
    "training_set"
   ]
  },
  {
   "cell_type": "code",
   "execution_count": 15,
   "metadata": {},
   "outputs": [
    {
     "name": "stdout",
     "output_type": "stream",
     "text": [
      "Found 134 images belonging to 2 classes.\n"
     ]
    }
   ],
   "source": [
    "test_set = test_datagen.flow_from_directory(\n",
    "    'Dataset/Test',\n",
    "    target_size=(224,224),\n",
    "    batch_size=32,\n",
    "    class_mode='categorical'\n",
    ")"
   ]
  },
  {
   "cell_type": "code",
   "execution_count": 16,
   "metadata": {},
   "outputs": [
    {
     "name": "stdout",
     "output_type": "stream",
     "text": [
      "Epoch 1/30\n",
      "13/13 [==============================] - 102s 8s/step - loss: 1.3491 - accuracy: 0.5240 - val_loss: 0.8008 - val_accuracy: 0.5000\n",
      "Epoch 2/30\n",
      "13/13 [==============================] - 96s 8s/step - loss: 0.7249 - accuracy: 0.6466 - val_loss: 0.6161 - val_accuracy: 0.6791\n",
      "Epoch 3/30\n",
      "13/13 [==============================] - 95s 7s/step - loss: 0.5055 - accuracy: 0.7356 - val_loss: 0.5961 - val_accuracy: 0.7239\n",
      "Epoch 4/30\n",
      "13/13 [==============================] - 97s 8s/step - loss: 0.3398 - accuracy: 0.8750 - val_loss: 0.4494 - val_accuracy: 0.7836\n",
      "Epoch 5/30\n",
      "13/13 [==============================] - 96s 8s/step - loss: 0.3095 - accuracy: 0.8798 - val_loss: 0.4011 - val_accuracy: 0.8134\n",
      "Epoch 6/30\n",
      "13/13 [==============================] - 97s 8s/step - loss: 0.2826 - accuracy: 0.8966 - val_loss: 0.3639 - val_accuracy: 0.8582\n",
      "Epoch 7/30\n",
      "13/13 [==============================] - 96s 8s/step - loss: 0.2732 - accuracy: 0.8990 - val_loss: 0.3363 - val_accuracy: 0.8881\n",
      "Epoch 8/30\n",
      "13/13 [==============================] - 97s 8s/step - loss: 0.2541 - accuracy: 0.9087 - val_loss: 0.3291 - val_accuracy: 0.8806\n",
      "Epoch 9/30\n",
      "13/13 [==============================] - 98s 8s/step - loss: 0.2362 - accuracy: 0.9135 - val_loss: 0.3178 - val_accuracy: 0.8358\n",
      "Epoch 10/30\n",
      "13/13 [==============================] - 96s 8s/step - loss: 0.2430 - accuracy: 0.9111 - val_loss: 0.4141 - val_accuracy: 0.7910\n",
      "Epoch 11/30\n",
      "13/13 [==============================] - 96s 8s/step - loss: 0.2575 - accuracy: 0.8846 - val_loss: 0.4154 - val_accuracy: 0.7910\n",
      "Epoch 12/30\n",
      "13/13 [==============================] - 97s 8s/step - loss: 0.3167 - accuracy: 0.8510 - val_loss: 0.4616 - val_accuracy: 0.7015\n",
      "Epoch 13/30\n",
      "13/13 [==============================] - 97s 8s/step - loss: 0.2969 - accuracy: 0.8678 - val_loss: 0.8490 - val_accuracy: 0.6343\n",
      "Epoch 14/30\n",
      "13/13 [==============================] - 97s 8s/step - loss: 0.2562 - accuracy: 0.8990 - val_loss: 0.2567 - val_accuracy: 0.8881\n",
      "Epoch 15/30\n",
      "13/13 [==============================] - 100s 8s/step - loss: 0.2074 - accuracy: 0.9327 - val_loss: 0.3005 - val_accuracy: 0.8881\n",
      "Epoch 16/30\n",
      "13/13 [==============================] - 96s 8s/step - loss: 0.1809 - accuracy: 0.9351 - val_loss: 0.2762 - val_accuracy: 0.8806\n",
      "Epoch 17/30\n",
      "13/13 [==============================] - 96s 8s/step - loss: 0.1817 - accuracy: 0.9327 - val_loss: 0.3181 - val_accuracy: 0.8433\n",
      "Epoch 18/30\n",
      "13/13 [==============================] - 100s 8s/step - loss: 0.1597 - accuracy: 0.9471 - val_loss: 0.2591 - val_accuracy: 0.9104\n",
      "Epoch 19/30\n",
      "13/13 [==============================] - 96s 8s/step - loss: 0.1580 - accuracy: 0.9495 - val_loss: 0.2584 - val_accuracy: 0.9104\n",
      "Epoch 20/30\n",
      "13/13 [==============================] - 96s 8s/step - loss: 0.1312 - accuracy: 0.9688 - val_loss: 0.2668 - val_accuracy: 0.9030\n",
      "Epoch 21/30\n",
      "13/13 [==============================] - 96s 8s/step - loss: 0.1566 - accuracy: 0.9447 - val_loss: 0.3039 - val_accuracy: 0.8507\n",
      "Epoch 22/30\n",
      "13/13 [==============================] - 96s 8s/step - loss: 0.1354 - accuracy: 0.9591 - val_loss: 0.3279 - val_accuracy: 0.8284\n",
      "Epoch 23/30\n",
      "13/13 [==============================] - 96s 8s/step - loss: 0.1367 - accuracy: 0.9495 - val_loss: 0.2428 - val_accuracy: 0.9030\n",
      "Epoch 24/30\n",
      "13/13 [==============================] - 115s 9s/step - loss: 0.1315 - accuracy: 0.9543 - val_loss: 0.2771 - val_accuracy: 0.8881\n",
      "Epoch 25/30\n",
      "13/13 [==============================] - 100s 8s/step - loss: 0.1167 - accuracy: 0.9663 - val_loss: 0.2386 - val_accuracy: 0.9254\n",
      "Epoch 26/30\n",
      "13/13 [==============================] - 98s 8s/step - loss: 0.1260 - accuracy: 0.9543 - val_loss: 0.3558 - val_accuracy: 0.8209\n",
      "Epoch 27/30\n",
      "13/13 [==============================] - 98s 8s/step - loss: 0.1253 - accuracy: 0.9567 - val_loss: 0.2157 - val_accuracy: 0.9179\n",
      "Epoch 28/30\n",
      "13/13 [==============================] - 99s 8s/step - loss: 0.1145 - accuracy: 0.9615 - val_loss: 0.2301 - val_accuracy: 0.9104\n",
      "Epoch 29/30\n",
      "13/13 [==============================] - 97s 8s/step - loss: 0.1003 - accuracy: 0.9760 - val_loss: 0.2048 - val_accuracy: 0.9328\n",
      "Epoch 30/30\n",
      "13/13 [==============================] - 98s 8s/step - loss: 0.1310 - accuracy: 0.9495 - val_loss: 0.2399 - val_accuracy: 0.9179\n"
     ]
    }
   ],
   "source": [
    "# Fit the model\n",
    "malaria_detection_model = model.fit(\n",
    "    training_set,\n",
    "    validation_data=test_set,\n",
    "    epochs=30,\n",
    "    steps_per_epoch=len(training_set),\n",
    "    validation_steps=len(test_set)\n",
    ")"
   ]
  },
  {
   "cell_type": "code",
   "execution_count": 17,
   "metadata": {},
   "outputs": [
    {
     "data": {
      "image/png": "[encoded data removed]",
      "text/plain": [
       "<Figure size 432x288 with 1 Axes>"
      ]
     },
     "metadata": {
      "needs_background": "light"
     },
     "output_type": "display_data"
    },
    {
     "data": {
      "image/png": "[encoded data removed]",
      "text/plain": [
       "<Figure size 432x288 with 1 Axes>"
      ]
     },
     "metadata": {
      "needs_background": "light"
     },
     "output_type": "display_data"
    }
   ],
   "source": [
    "#Plot the loss\n",
    "plt.plot(malaria_detection_model.history['loss'],label='train loss')\n",
    "plt.plot(malaria_detection_model.history['val_loss'],label='val loss')\n",
    "plt.legend()\n",
    "plt.show()\n",
    "\n",
    "#Plot the accuracy\n",
    "plt.plot(malaria_detection_model.history['accuracy'],label='train acc')\n",
    "plt.plot(malaria_detection_model.history['val_accuracy'],label='val acc')\n",
    "plt.legend()\n",
    "plt.show()"
   ]
  },
  {
   "cell_type": "code",
   "execution_count": 18,
   "metadata": {},
   "outputs": [],
   "source": [
    "#Save the model\n",
    "\n",
    "from tensorflow.keras.models import load_model\n",
    "model.save('model_vgg19.h5')"
   ]
  },
  {
   "cell_type": "code",
   "execution_count": 19,
   "metadata": {},
   "outputs": [
    {
     "data": {
      "text/plain": [
       "array([[5.47533296e-02, 9.45246696e-01],\n",
       "       [9.98805046e-01, 1.19490176e-03],\n",
       "       [6.04652405e-01, 3.95347565e-01],\n",
       "       [9.99981642e-01, 1.82998410e-05],\n",
       "       [9.84829247e-01, 1.51707288e-02],\n",
       "       [8.90077174e-01, 1.09922804e-01],\n",
       "       [1.13458477e-01, 8.86541486e-01],\n",
       "       [9.65216756e-01, 3.47833112e-02],\n",
       "       [2.75160700e-01, 7.24839330e-01],\n",
       "       [9.95495677e-01, 4.50426852e-03],\n",
       "       [7.94460595e-01, 2.05539376e-01],\n",
       "       [5.23760438e-01, 4.76239622e-01],\n",
       "       [9.98270869e-01, 1.72906276e-03],\n",
       "       [1.40354028e-02, 9.85964537e-01],\n",
       "       [1.81026578e-01, 8.18973422e-01],\n",
       "       [9.99997735e-01, 2.21862342e-06],\n",
       "       [8.92628372e-01, 1.07371606e-01],\n",
       "       [9.60170805e-01, 3.98291536e-02],\n",
       "       [8.41212332e-01, 1.58787638e-01],\n",
       "       [5.79152219e-02, 9.42084730e-01],\n",
       "       [6.37435839e-02, 9.36256349e-01],\n",
       "       [6.32952094e-01, 3.67047906e-01],\n",
       "       [6.70413747e-02, 9.32958663e-01],\n",
       "       [6.11371517e-01, 3.88628423e-01],\n",
       "       [5.42988837e-01, 4.57011163e-01],\n",
       "       [2.89982352e-02, 9.71001804e-01],\n",
       "       [4.20074239e-02, 9.57992554e-01],\n",
       "       [3.36003937e-02, 9.66399670e-01],\n",
       "       [1.13208607e-01, 8.86791348e-01],\n",
       "       [1.30292282e-01, 8.69707704e-01],\n",
       "       [5.13237864e-02, 9.48676229e-01],\n",
       "       [2.65353054e-01, 7.34646916e-01],\n",
       "       [5.79227328e-01, 4.20772702e-01],\n",
       "       [9.99539375e-01, 4.60630050e-04],\n",
       "       [2.02485010e-01, 7.97514975e-01],\n",
       "       [9.98429596e-01, 1.57037040e-03],\n",
       "       [1.72765017e-01, 8.27234983e-01],\n",
       "       [9.99867439e-01, 1.32547575e-04],\n",
       "       [5.63691080e-01, 4.36308920e-01],\n",
       "       [7.22918570e-01, 2.77081430e-01],\n",
       "       [9.93605196e-01, 6.39482588e-03],\n",
       "       [1.56875744e-01, 8.43124330e-01],\n",
       "       [9.59162056e-01, 4.08379659e-02],\n",
       "       [9.39503431e-01, 6.04965463e-02],\n",
       "       [1.14404708e-01, 8.85595262e-01],\n",
       "       [9.51442063e-01, 4.85579595e-02],\n",
       "       [3.08733225e-01, 6.91266775e-01],\n",
       "       [5.52794755e-01, 4.47205335e-01],\n",
       "       [1.67388663e-01, 8.32611322e-01],\n",
       "       [9.96742904e-01, 3.25711863e-03],\n",
       "       [9.97351408e-01, 2.64860434e-03],\n",
       "       [9.12855983e-01, 8.71439800e-02],\n",
       "       [7.50570714e-01, 2.49429241e-01],\n",
       "       [9.99782026e-01, 2.18003319e-04],\n",
       "       [9.89747047e-01, 1.02529321e-02],\n",
       "       [5.31690605e-02, 9.46830988e-01],\n",
       "       [9.92745578e-01, 7.25440774e-03],\n",
       "       [8.28183115e-01, 1.71816856e-01],\n",
       "       [4.66574878e-02, 9.53342557e-01],\n",
       "       [6.49195492e-01, 3.50804508e-01],\n",
       "       [9.71521795e-01, 2.84781586e-02],\n",
       "       [2.82044113e-02, 9.71795619e-01],\n",
       "       [5.64347029e-01, 4.35652971e-01],\n",
       "       [9.96447682e-01, 3.55226756e-03],\n",
       "       [3.95935148e-01, 6.04064822e-01],\n",
       "       [9.52031672e-01, 4.79683727e-02],\n",
       "       [6.13048613e-01, 3.86951327e-01],\n",
       "       [7.64284432e-01, 2.35715568e-01],\n",
       "       [8.01768064e-01, 1.98231950e-01],\n",
       "       [7.72381663e-01, 2.27618322e-01],\n",
       "       [5.91240346e-01, 4.08759683e-01],\n",
       "       [9.97936726e-01, 2.06325692e-03],\n",
       "       [9.99896526e-01, 1.03502854e-04],\n",
       "       [9.98427033e-01, 1.57297892e-03],\n",
       "       [5.53846993e-02, 9.44615304e-01],\n",
       "       [1.64977252e-01, 8.35022807e-01],\n",
       "       [1.11016534e-01, 8.88983488e-01],\n",
       "       [9.99343455e-01, 6.56540215e-04],\n",
       "       [9.94578242e-01, 5.42171067e-03],\n",
       "       [1.37933090e-01, 8.62066865e-01],\n",
       "       [2.47025341e-01, 7.52974689e-01],\n",
       "       [9.99999166e-01, 7.77754224e-07],\n",
       "       [9.98914480e-01, 1.08548405e-03],\n",
       "       [6.01983428e-01, 3.98016542e-01],\n",
       "       [6.09904289e-01, 3.90095741e-01],\n",
       "       [9.97440338e-01, 2.55967025e-03],\n",
       "       [9.99887586e-01, 1.12362279e-04],\n",
       "       [1.60234869e-01, 8.39765131e-01],\n",
       "       [9.98511851e-01, 1.48815638e-03],\n",
       "       [3.04946285e-02, 9.69505310e-01],\n",
       "       [7.18283430e-02, 9.28171694e-01],\n",
       "       [9.86011803e-01, 1.39882285e-02],\n",
       "       [9.92794037e-01, 7.20603205e-03],\n",
       "       [2.95061022e-01, 7.04939008e-01],\n",
       "       [6.29853532e-02, 9.37014699e-01],\n",
       "       [5.57524115e-02, 9.44247603e-01],\n",
       "       [9.98339772e-01, 1.66018575e-03],\n",
       "       [2.21357495e-01, 7.78642476e-01],\n",
       "       [9.86668825e-01, 1.33312121e-02],\n",
       "       [9.88134980e-01, 1.18650617e-02],\n",
       "       [1.10251345e-01, 8.89748633e-01],\n",
       "       [1.31470278e-01, 8.68529677e-01],\n",
       "       [1.37367874e-01, 8.62632096e-01],\n",
       "       [9.99912858e-01, 8.71555749e-05],\n",
       "       [8.80225897e-01, 1.19774118e-01],\n",
       "       [9.99908328e-01, 9.17025027e-05],\n",
       "       [9.99828100e-01, 1.71901513e-04],\n",
       "       [1.14085227e-01, 8.85914743e-01],\n",
       "       [7.17862025e-02, 9.28213835e-01],\n",
       "       [9.98886406e-01, 1.11358985e-03],\n",
       "       [2.83119380e-01, 7.16880560e-01],\n",
       "       [7.71817923e-01, 2.28182063e-01],\n",
       "       [4.99271899e-02, 9.50072825e-01],\n",
       "       [4.09684598e-01, 5.90315402e-01],\n",
       "       [9.47941244e-01, 5.20587638e-02],\n",
       "       [9.72391665e-01, 2.76083015e-02],\n",
       "       [9.65980232e-01, 3.40197273e-02],\n",
       "       [9.30444062e-01, 6.95560202e-02],\n",
       "       [9.93365824e-01, 6.63420232e-03],\n",
       "       [5.69115132e-02, 9.43088472e-01],\n",
       "       [8.93541336e-01, 1.06458701e-01],\n",
       "       [1.31248593e-01, 8.68751407e-01],\n",
       "       [7.99766243e-01, 2.00233802e-01],\n",
       "       [9.99055803e-01, 9.44154279e-04],\n",
       "       [6.44240752e-02, 9.35575962e-01],\n",
       "       [5.81646413e-02, 9.41835344e-01],\n",
       "       [9.82883200e-02, 9.01711702e-01],\n",
       "       [8.15268815e-01, 1.84731215e-01],\n",
       "       [9.98192966e-01, 1.80706894e-03],\n",
       "       [5.39297104e-01, 4.60702866e-01],\n",
       "       [9.99137402e-01, 8.62614368e-04],\n",
       "       [4.01847571e-01, 5.98152399e-01],\n",
       "       [7.37208664e-01, 2.62791365e-01],\n",
       "       [1.07597783e-01, 8.92402232e-01]], dtype=float32)"
      ]
     },
     "execution_count": 19,
     "metadata": {},
     "output_type": "execute_result"
    }
   ],
   "source": [
    "y_pred = model.predict(test_set)\n",
    "y_pred"
   ]
  },
  {
   "cell_type": "code",
   "execution_count": 20,
   "metadata": {},
   "outputs": [
    {
     "data": {
      "text/plain": [
       "array([1, 0, 0, 0, 0, 0, 1, 0, 1, 0, 0, 0, 0, 1, 1, 0, 0, 0, 0, 1, 1, 0,\n",
       "       1, 0, 0, 1, 1, 1, 1, 1, 1, 1, 0, 0, 1, 0, 1, 0, 0, 0, 0, 1, 0, 0,\n",
       "       1, 0, 1, 0, 1, 0, 0, 0, 0, 0, 0, 1, 0, 0, 1, 0, 0, 1, 0, 0, 1, 0,\n",
       "       0, 0, 0, 0, 0, 0, 0, 0, 1, 1, 1, 0, 0, 1, 1, 0, 0, 0, 0, 0, 0, 1,\n",
       "       0, 1, 1, 0, 0, 1, 1, 1, 0, 1, 0, 0, 1, 1, 1, 0, 0, 0, 0, 1, 1, 0,\n",
       "       1, 0, 1, 1, 0, 0, 0, 0, 0, 1, 0, 1, 0, 0, 1, 1, 1, 0, 0, 0, 0, 1,\n",
       "       0, 1], dtype=int64)"
      ]
     },
     "execution_count": 20,
     "metadata": {},
     "output_type": "execute_result"
    }
   ],
   "source": [
    "y_pred = np.argmax(y_pred,axis=1)\n",
    "y_pred"
   ]
  },
  {
   "cell_type": "code",
   "execution_count": 21,
   "metadata": {},
   "outputs": [],
   "source": [
    "from tensorflow.keras.models import load_model\n",
    "from tensorflow.keras.preprocessing import image"
   ]
  },
  {
   "cell_type": "code",
   "execution_count": 22,
   "metadata": {},
   "outputs": [],
   "source": [
    "model = load_model('model_vgg19.h5')"
   ]
  },
  {
   "cell_type": "code",
   "execution_count": 23,
   "metadata": {},
   "outputs": [
    {
     "data": {
      "text/plain": [
       "array([[[0., 0., 0.],\n",
       "        [0., 0., 0.],\n",
       "        [0., 0., 0.],\n",
       "        ...,\n",
       "        [0., 0., 0.],\n",
       "        [0., 0., 0.],\n",
       "        [0., 0., 0.]],\n",
       "\n",
       "       [[0., 0., 0.],\n",
       "        [0., 0., 0.],\n",
       "        [0., 0., 0.],\n",
       "        ...,\n",
       "        [0., 0., 0.],\n",
       "        [0., 0., 0.],\n",
       "        [0., 0., 0.]],\n",
       "\n",
       "       [[0., 0., 0.],\n",
       "        [0., 0., 0.],\n",
       "        [0., 0., 0.],\n",
       "        ...,\n",
       "        [0., 0., 0.],\n",
       "        [0., 0., 0.],\n",
       "        [0., 0., 0.]],\n",
       "\n",
       "       ...,\n",
       "\n",
       "       [[0., 0., 0.],\n",
       "        [0., 0., 0.],\n",
       "        [0., 0., 0.],\n",
       "        ...,\n",
       "        [0., 0., 0.],\n",
       "        [0., 0., 0.],\n",
       "        [0., 0., 0.]],\n",
       "\n",
       "       [[0., 0., 0.],\n",
       "        [0., 0., 0.],\n",
       "        [0., 0., 0.],\n",
       "        ...,\n",
       "        [0., 0., 0.],\n",
       "        [0., 0., 0.],\n",
       "        [0., 0., 0.]],\n",
       "\n",
       "       [[0., 0., 0.],\n",
       "        [0., 0., 0.],\n",
       "        [0., 0., 0.],\n",
       "        ...,\n",
       "        [0., 0., 0.],\n",
       "        [0., 0., 0.],\n",
       "        [0., 0., 0.]]], dtype=float32)"
      ]
     },
     "execution_count": 23,
     "metadata": {},
     "output_type": "execute_result"
    }
   ],
   "source": [
    "img = image.load_img('Dataset/Test/Uninfected/2.png',target_size=(224,224))\n",
    "x = image.img_to_array(img)\n",
    "x"
   ]
  },
  {
   "cell_type": "code",
   "execution_count": 24,
   "metadata": {},
   "outputs": [
    {
     "data": {
      "text/plain": [
       "(224, 224, 3)"
      ]
     },
     "execution_count": 24,
     "metadata": {},
     "output_type": "execute_result"
    }
   ],
   "source": [
    "x.shape"
   ]
  },
  {
   "cell_type": "code",
   "execution_count": 25,
   "metadata": {},
   "outputs": [],
   "source": [
    "x=x/255"
   ]
  },
  {
   "cell_type": "code",
   "execution_count": 26,
   "metadata": {},
   "outputs": [
    {
     "data": {
      "text/plain": [
       "(1, 224, 224, 3)"
      ]
     },
     "execution_count": 26,
     "metadata": {},
     "output_type": "execute_result"
    }
   ],
   "source": [
    "x=np.expand_dims(x,axis=0)\n",
    "img_data=preprocess_input(x)\n",
    "img_data.shape"
   ]
  },
  {
   "cell_type": "code",
   "execution_count": 27,
   "metadata": {},
   "outputs": [
    {
     "data": {
      "text/plain": [
       "array([[0.00366922, 0.9963308 ]], dtype=float32)"
      ]
     },
     "execution_count": 27,
     "metadata": {},
     "output_type": "execute_result"
    }
   ],
   "source": [
    "model.predict(img_data)"
   ]
  },
  {
   "cell_type": "code",
   "execution_count": 28,
   "metadata": {},
   "outputs": [
    {
     "name": "stdout",
     "output_type": "stream",
     "text": [
      "Uninfected\n"
     ]
    }
   ],
   "source": [
    "a = np.argmax(model.predict(img_data),axis=1)\n",
    "if a==1:\n",
    "    print('Uninfected')\n",
    "else:\n",
    "    print('Infected')"
   ]
  },
  {
   "cell_type": "code",
   "execution_count": null,
   "metadata": {},
   "outputs": [],
   "source": []
  }
 ],
 "metadata": {
  "kernelspec": {
   "display_name": "Python 3",
   "language": "python",
   "name": "python3"
  },
  "language_info": {
   "codemirror_mode": {
    "name": "ipython",
    "version": 3
   },
   "file_extension": ".py",
   "mimetype": "text/x-python",
   "name": "python",
   "nbconvert_exporter": "python",
   "pygments_lexer": "ipython3",
   "version": "3.7.4"
  }
 },
 "nbformat": 4,
 "nbformat_minor": 2
}
